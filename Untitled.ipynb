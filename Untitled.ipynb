{
 "cells": [
  {
   "cell_type": "code",
   "execution_count": 7,
   "id": "8bffa5a3",
   "metadata": {},
   "outputs": [
    {
     "name": "stdout",
     "output_type": "stream",
     "text": [
      "Unpacking Train File\n",
      "Unpacking Test File\n",
      "Unpacking Finish\n"
     ]
    }
   ],
   "source": [
    "import numpy as np\n",
    "from PIL import Image\n",
    "import os\n",
    "import pickle\n",
    "\n",
    "\n",
    "def unpickle(file):\n",
    "    with open(file, 'rb') as fo:\n",
    "        dict = pickle.load(fo, encoding='bytes')\n",
    "    return dict\n",
    "\n",
    "\n",
    "with open('meta', 'rb') as infile:\n",
    "    data = pickle.load(infile, encoding='latin1')\n",
    "    classes = data['fine_label_names']\n",
    "\n",
    "# 클래스 별 폴더 생성\n",
    "os.mkdir('./train_image')\n",
    "os.mkdir('./test_image')\n",
    "for name in classes:\n",
    "    os.mkdir('./train_image/{}'.format(name))\n",
    "    os.mkdir('./test_image/{}'.format(name))\n",
    "\n",
    "# Trainset Unpacking\n",
    "# data_batch 파일들 순서대로 unpacking\n",
    "print('Unpacking Train File')\n",
    "\n",
    "train_file = unpickle('train')\n",
    "train_data = train_file[b'data']\n",
    "\n",
    "# 10000, 3072 -> 10000, 3, 32, 32 형태로 변환\n",
    "train_data_reshape = np.vstack(train_data).reshape((-1, 3, 32, 32))\n",
    "# 이미지 저장을 위해 10000, 32, 32, 3으로 변환\n",
    "train_data_reshape = train_data_reshape.swapaxes(1, 3)\n",
    "train_data_reshape = train_data_reshape.swapaxes(1, 2)\n",
    "# 레이블 리스트 생성\n",
    "train_labels = train_file[b'fine_labels']\n",
    "# 파일 이름 리스트 생성\n",
    "train_filename = train_file[b'filenames']\n",
    "\n",
    "# 50000개의 파일을 순차적으로 저장\n",
    "for idx in range(50000):\n",
    "    train_label = train_labels[idx]\n",
    "    train_image = Image.fromarray(train_data_reshape[idx])\n",
    "    # 클래스 별 폴더에 파일 저장\n",
    "    train_image.save('./train_image/{}/{}'.format(classes[train_label], train_filename[idx].decode('utf8')))\n",
    "# -----------------------------------------------------------------------------------------\n",
    "# Testset Unpacking\n",
    "print('Unpacking Test File')\n",
    "test_file = unpickle('test')\n",
    "\n",
    "test_data = test_file[b'data']\n",
    "\n",
    "# 10000, 3072 -> 10000, 3, 32, 32 형태로 변환\n",
    "test_data_reshape = np.vstack(test_data).reshape((-1, 3, 32, 32))\n",
    "# 이미지 저장을 위해 10000, 32, 32, 3으로 변환\n",
    "test_data_reshape = test_data_reshape.swapaxes(1, 3)\n",
    "test_data_reshape = test_data_reshape.swapaxes(1, 2)\n",
    "# 레이블 리스트 생성\n",
    "test_labels = test_file[b'fine_labels']\n",
    "# 파일 이름 리스트 생성\n",
    "test_filename = test_file[b'filenames']\n",
    "\n",
    "# 10000개의 파일을 순차적으로 저장\n",
    "for idx in range(10000):\n",
    "    test_label = test_labels[idx]\n",
    "    test_image = Image.fromarray(test_data_reshape[idx])\n",
    "    # 클래스 별 폴더에 파일 저장\n",
    "    test_image.save('./test_image/{}/{}'.format(classes[test_label], test_filename[idx].decode('utf8')))\n",
    "\n",
    "print('Unpacking Finish')"
   ]
  },
  {
   "cell_type": "code",
   "execution_count": null,
   "id": "4c86ccc6",
   "metadata": {},
   "outputs": [],
   "source": []
  }
 ],
 "metadata": {
  "kernelspec": {
   "display_name": "Python 3",
   "language": "python",
   "name": "python3"
  },
  "language_info": {
   "codemirror_mode": {
    "name": "ipython",
    "version": 3
   },
   "file_extension": ".py",
   "mimetype": "text/x-python",
   "name": "python",
   "nbconvert_exporter": "python",
   "pygments_lexer": "ipython3",
   "version": "3.8.8"
  }
 },
 "nbformat": 4,
 "nbformat_minor": 5
}
