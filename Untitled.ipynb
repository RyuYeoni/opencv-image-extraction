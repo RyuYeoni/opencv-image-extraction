version https://git-lfs.github.com/spec/v1
oid sha256:bb9ece3256a2c933254baf066daa5c4f3f46a8f199e625b756840ed8f6537cc6
size 783175
