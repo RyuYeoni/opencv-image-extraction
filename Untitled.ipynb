version https://git-lfs.github.com/spec/v1
oid sha256:c6e9d7f77a143a31adebce08806cbd2f6288ba9790d54ddcab17d24e18104670
size 790549
